{
  "cells": [
    {
      "cell_type": "markdown",
      "id": "5e96ab50-b396-4e48-81cc-160058738c4e",
      "metadata": {
        "id": "5e96ab50-b396-4e48-81cc-160058738c4e"
      },
      "source": [
        "# Setup"
      ]
    },
    {
      "cell_type": "code",
      "execution_count": 1,
      "id": "5ac5964c-acfa-4912-92af-7946c6fa7398",
      "metadata": {
        "id": "5ac5964c-acfa-4912-92af-7946c6fa7398"
      },
      "outputs": [],
      "source": [
        "import os\n",
        "\n",
        "import numpy as np\n",
        "import pandas as pd\n",
        "\n",
        "from dataset_util import unzip_archive, load_dataset_data, print_dataset_data\n",
        "from fedot_util import run_example"
      ]
    },
    {
      "cell_type": "markdown",
      "id": "1f2ac346",
      "metadata": {},
      "source": [
        "# Загрузка данных"
      ]
    },
    {
      "cell_type": "code",
      "execution_count": 2,
      "id": "2a1cabc3",
      "metadata": {},
      "outputs": [
        {
          "name": "stdout",
          "output_type": "stream",
          "text": [
            "titanic.zip extracted to titanic successfully.\n"
          ]
        }
      ],
      "source": [
        "dataset_path = ['titanic', 'credit-g'][0]\n",
        "\n",
        "zip_filename = f\"{dataset_path}.zip\"\n",
        "os.makedirs(dataset_path, exist_ok=True)\n",
        "unzip_archive(zip_filename, dataset_path)"
      ]
    },
    {
      "cell_type": "code",
      "execution_count": 3,
      "id": "O3IlOI4PeVXT",
      "metadata": {
        "id": "O3IlOI4PeVXT"
      },
      "outputs": [
        {
          "name": "stdout",
          "output_type": "stream",
          "text": [
            "name : titanic passengers survival\n",
            "description : passengers survived the Titanic shipwreck\n",
            "goal : predict which passengers survived the Titanic shipwreck\n",
            "split_names : ['train', 'test_X', 'test_y']\n",
            "split_paths : {'train': 'train.csv', 'test_X': 'test.csv', 'test_y': 'gender_submission.csv'}\n",
            "split_descriptions : {'train': 'train dataset', 'test_X': 'test dataset without target', 'test_y': 'test dataset target'}\n",
            "train_split_name : train\n",
            "splits : dict_keys(['train', 'test_X', 'test_y'])\n",
            "categorical_columns : ['Pclass']\n",
            "target_column : Survived\n",
            "task_type : classification\n"
          ]
        }
      ],
      "source": [
        "dataset_metadata = load_dataset_data(dataset_path)\n",
        "\n",
        "print_dataset_data(dataset_metadata)"
      ]
    },
    {
      "cell_type": "markdown",
      "id": "8382401d",
      "metadata": {},
      "source": [
        "# Запуск фреймворка"
      ]
    },
    {
      "cell_type": "code",
      "execution_count": 4,
      "id": "dddebd41",
      "metadata": {},
      "outputs": [
        {
          "data": {
            "text/plain": [
              "'Survived'"
            ]
          },
          "execution_count": 4,
          "metadata": {},
          "output_type": "execute_result"
        }
      ],
      "source": [
        "dataset_metadata['target_column']"
      ]
    },
    {
      "cell_type": "code",
      "execution_count": 5,
      "id": "aaJnOwCvr_wR",
      "metadata": {
        "colab": {
          "base_uri": "https://localhost:8080/",
          "height": 211
        },
        "id": "aaJnOwCvr_wR",
        "outputId": "9eec85e6-9062-4ef6-b018-bd8d7a8eb587"
      },
      "outputs": [
        {
          "name": "stdout",
          "output_type": "stream",
          "text": [
            "2024-07-16 18:22:49,057 - Topological features operation requires extra dependencies for time series forecasting, which are not installed. It can infuence the performance. Please install it by 'pip install fedot[extra]'\n"
          ]
        },
        {
          "name": "stderr",
          "output_type": "stream",
          "text": [
            "Generations:   0%|          | 0/10000 [00:00<?, ?gen/s]"
          ]
        },
        {
          "name": "stdout",
          "output_type": "stream",
          "text": [
            "2024-07-16 18:22:55,797 - Topological features operation requires extra dependencies for time series forecasting, which are not installed. It can infuence the performance. Please install it by 'pip install fedot[extra]'\n",
            "2024-07-16 18:22:55,797 - Topological features operation requires extra dependencies for time series forecasting, which are not installed. It can infuence the performance. Please install it by 'pip install fedot[extra]'\n",
            "2024-07-16 18:22:55,797 - Topological features operation requires extra dependencies for time series forecasting, which are not installed. It can infuence the performance. Please install it by 'pip install fedot[extra]'\n",
            "2024-07-16 18:23:17,847 - Topological features operation requires extra dependencies for time series forecasting, which are not installed. It can infuence the performance. Please install it by 'pip install fedot[extra]'\n",
            "2024-07-16 18:23:17,952 - Topological features operation requires extra dependencies for time series forecasting, which are not installed. It can infuence the performance. Please install it by 'pip install fedot[extra]'\n",
            "2024-07-16 18:23:17,978 - Topological features operation requires extra dependencies for time series forecasting, which are not installed. It can infuence the performance. Please install it by 'pip install fedot[extra]'\n",
            "2024-07-16 18:23:18,027 - Topological features operation requires extra dependencies for time series forecasting, which are not installed. It can infuence the performance. Please install it by 'pip install fedot[extra]'\n",
            "2024-07-16 18:23:18,091 - Topological features operation requires extra dependencies for time series forecasting, which are not installed. It can infuence the performance. Please install it by 'pip install fedot[extra]'\n",
            "2024-07-16 18:23:18,341 - Topological features operation requires extra dependencies for time series forecasting, which are not installed. It can infuence the performance. Please install it by 'pip install fedot[extra]'\n",
            "2024-07-16 18:23:18,424 - Topological features operation requires extra dependencies for time series forecasting, which are not installed. It can infuence the performance. Please install it by 'pip install fedot[extra]'\n",
            "2024-07-16 18:23:18,469 - Topological features operation requires extra dependencies for time series forecasting, which are not installed. It can infuence the performance. Please install it by 'pip install fedot[extra]'\n",
            "2024-07-16 18:23:18,475 - Topological features operation requires extra dependencies for time series forecasting, which are not installed. It can infuence the performance. Please install it by 'pip install fedot[extra]'\n"
          ]
        },
        {
          "name": "stderr",
          "output_type": "stream",
          "text": [
            "Generations:   0%|          | 0/10000 [18:20<?, ?gen/s]\n"
          ]
        },
        {
          "name": "stdout",
          "output_type": "stream",
          "text": [
            "{'roc_auc': 0.941, 'accuracy': 0.828}\n"
          ]
        }
      ],
      "source": [
        "\n",
        "if dataset_path == 'titanic':\n",
        "    test_df = dataset_metadata[\"splits\"][\"test_X\"].merge(dataset_metadata[\"splits\"][\"test_y\"],\n",
        "                                                         on='PassengerId', how='inner')\n",
        "else:\n",
        "    test_df = dataset_metadata[\"splits\"][\"test\"]\n",
        "\n",
        "train_df = dataset_metadata[\"splits\"][\"train\"]\n",
        "\n",
        "prediction = run_example(train_df = train_df, test_df = test_df,\n",
        "                          dataset_metadata = dataset_metadata)"
      ]
    },
    {
      "cell_type": "code",
      "execution_count": 6,
      "id": "2f61d093",
      "metadata": {},
      "outputs": [
        {
          "data": {
            "text/plain": [
              "array([[0],\n",
              "       [0],\n",
              "       [0],\n",
              "       [0],\n",
              "       [1]])"
            ]
          },
          "execution_count": 6,
          "metadata": {},
          "output_type": "execute_result"
        }
      ],
      "source": [
        "prediction[:5]"
      ]
    },
    {
      "cell_type": "code",
      "execution_count": 7,
      "id": "2e45d4f3",
      "metadata": {},
      "outputs": [],
      "source": [
        "result_df = pd.DataFrame(prediction, columns=[dataset_metadata[\"target_column\"]])\n",
        "\n",
        "result_df.to_csv(f\"{dataset_path}/predictions.csv\")"
      ]
    }
  ],
  "metadata": {
    "colab": {
      "collapsed_sections": [
        "5e96ab50-b396-4e48-81cc-160058738c4e"
      ],
      "provenance": []
    },
    "kernelspec": {
      "display_name": "Python 3",
      "name": "python3"
    },
    "language_info": {
      "codemirror_mode": {
        "name": "ipython",
        "version": 3
      },
      "file_extension": ".py",
      "mimetype": "text/x-python",
      "name": "python",
      "nbconvert_exporter": "python",
      "pygments_lexer": "ipython3",
      "version": "3.10.11"
    }
  },
  "nbformat": 4,
  "nbformat_minor": 5
}
