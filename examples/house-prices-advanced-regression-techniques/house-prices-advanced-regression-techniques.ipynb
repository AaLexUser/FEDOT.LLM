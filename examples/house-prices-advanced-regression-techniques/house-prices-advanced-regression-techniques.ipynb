{
 "cells": [
  {
   "cell_type": "markdown",
   "metadata": {},
   "source": [
    "# House Prices - Advanced Regression Techniques\n",
    "Predict sales prices and practice feature engineering, RFs, and gradient boosting\n",
    "\n",
    "https://www.kaggle.com/competitions/house-prices-advanced-regression-techniques"
   ]
  },
  {
   "cell_type": "code",
   "execution_count": 1,
   "metadata": {},
   "outputs": [
    {
     "name": "stdout",
     "output_type": "stream",
     "text": [
      "Downloading dataset to: /Users/aleksejlapin/Work/STABLE-FedotLLM/examples/house-prices-advanced-regression-techniques/competition\n",
      "Dataset downloaded and extracted to /Users/aleksejlapin/Work/STABLE-FedotLLM/examples/house-prices-advanced-regression-techniques/competition\n"
     ]
    }
   ],
   "source": [
    "import sys, os\n",
    "\n",
    "module_path = os.path.abspath(os.path.join(os.getcwd(), '..', '..'))\n",
    "\n",
    "if module_path not in sys.path:\n",
    "    sys.path.insert(0, module_path)\n",
    "\n",
    "from fedotllm.main import FedotAI\n",
    "from fedotllm.output import JupyterOutput\n",
    "from fedotllm.llm import AIInference\n",
    "from examples.kaggle import download_from_kaggle, submit_to_kaggle\n",
    "\n",
    "competition_name = \"house-prices-advanced-regression-techniques\"\n",
    "dataset_path = os.path.join(os.getcwd(), \"competition\")\n",
    "download_from_kaggle(competition_name=competition_name, save_path=dataset_path)"
   ]
  },
  {
   "cell_type": "code",
   "execution_count": 2,
   "metadata": {
    "ExecuteTime": {
     "end_time": "2024-08-10T10:02:39.374269Z",
     "start_time": "2024-08-10T10:02:39.371821Z"
    }
   },
   "outputs": [],
   "source": [
    "description=\"\"\"Goal\n",
    "It is your job to predict the sales price for each house. For each Id in the test set, you must predict the value of the SalePrice variable. \n",
    "\n",
    "Metric\n",
    "Submissions are evaluated on Root-Mean-Squared-Error (RMSE) between the logarithm of the predicted value and the logarithm of the observed sales price. (Taking logs means that errors in predicting expensive houses and cheap houses will affect the result equally.)\n",
    "\"\"\""
   ]
  },
  {
   "cell_type": "code",
   "execution_count": 3,
   "metadata": {},
   "outputs": [
    {
     "data": {
      "text/markdown": [
       "================== HumanMessage ==================\n",
       "\n",
       "Goal\n",
       "It is your job to predict the sales price for each house. For each Id in the test set, you must predict the value of the SalePrice variable. \n",
       "\n",
       "Metric\n",
       "Submissions are evaluated on Root-Mean-Squared-Error (RMSE) between the logarithm of the predicted value and the logarithm of the observed sales price. (Taking logs means that errors in predicting expensive houses and cheap houses will affect the result equally.)\n",
       "\n",
       "\n",
       "================== AutoMLAgent ===================\n",
       "\n",
       "# Predicting House Prices: Model Evaluation Report\n",
       "\n",
       "## Overview\n",
       "\n",
       "- **Problem**: The task is to predict the sale prices of houses based on various features like size, location, and amenities. The primary goal is to arrive at accurate predictions for the `SalePrice` variable within a dataset.\n",
       "  \n",
       "- **Goal**: The model aims to assist realtors and homebuyers alike by providing price estimates that can inform purchases, sales, and investments in the real estate market. By understanding these predictions better, stakeholders can make more informed decisions when buying or selling homes.\n",
       "\n",
       "---\n",
       "\n",
       "## Data Preprocessing\n",
       "\n",
       "Before diving into modeling, several preprocessing steps were essential to ensure the data was suitable for analysis:\n",
       "\n",
       "- **Normalization**: This step scales different features so they operate on a similar range, enhancing model performance. For example, a year's age range (5-90 years) might be adjusted to a scale of 0-1.\n",
       "\n",
       "- **Missing Values Handling**: We addressed gaps in our data by replacing missing entries with statistical estimates. For instance, in the `Income` column, we filled in missing values with the average of $50,000.\n",
       "\n",
       "- **Categorical Feature Encoding**: Variables that represent categories (like `Neighborhood`) were converted into numerical formats using one-hot encoding, ensuring that the model could understand them. This technique effectively transforms categories into binary columns where '1' indicates presence and '0' absence.\n",
       "\n",
       "---\n",
       "\n",
       "## Pipeline Summary\n",
       "\n",
       "The modeling pipeline consisted of the following key components:\n",
       "\n",
       "1. **Random Forest Regressor (RFR)**: \n",
       "   - **Parameters**:\n",
       "     - `max_features`: 0.35 (controls the number of features to consider for the best split).\n",
       "     - `min_samples_leaf`: 2 (minimum samples required to be at a leaf node).\n",
       "     - `n_jobs`: 1 (indicates the number of jobs to run in parallel).\n",
       "\n",
       "   - **Explanation**: The Random Forest model merges the forecasts of multiple decision trees to achieve better predictive performance and is robust against overfitting.\n",
       "\n",
       "2. **Scaling**: \n",
       "   - This step is critical for ensuring that all numeric features contribute equally to distance computations during model training.\n",
       "\n",
       "| Model   | Parameters                                     | Explanation                                                          |\n",
       "|---------|------------------------------------------------|----------------------------------------------------------------------|\n",
       "| RFR     | `max_features`: 0.354, `min_samples_leaf`: 2 | Combines multiple trees for better accuracy and robustness           |\n",
       "\n",
       "---\n",
       "\n",
       "## Code Highlights\n",
       "\n",
       "Here's a brief look at the code that powers our model:\n",
       "\n",
       "```python\n",
       "def train_model(train_features: pd.DataFrame, train_target: pd.DataFrame):\n",
       "    input_data = InputData.from_dataframe(train_features, train_target, task='classification')\n",
       "    model = Fedot(problem=TaskTypesEnum.regression.value,\n",
       "            timeout=1.0,\n",
       "            seed=42,\n",
       "            cv_folds=5,\n",
       "            preset='auto',\n",
       "            metric='rmse',\n",
       "            n_jobs=1,\n",
       "            with_tuning=True,\n",
       "            show_progress=True)\n",
       "\n",
       "    model.fit(features=input_data) # Training the model\n",
       "    pipeline = model.current_pipeline\n",
       "    pipeline.save(path=PIPELINE_PATH, create_subdir=False, is_datetime_in_path=False)\n",
       "    return model\n",
       "```\n",
       "\n",
       "- **Explanation**: This code showcases the model training function where we prepare the data for a regression task, set up tuning parameters, and fit the model. The procedure aims to produce a pipeline that captures the relationships within our training data, allowing us to predict unseen data effectively.\n",
       "\n",
       "---\n",
       "\n",
       "## Metrics Table\n",
       "\n",
       "Here's how our model performed, quantified through a key metric:\n",
       "\n",
       "| Metric | Value      | Explanation                                   |  \n",
       "|--------|------------|-----------------------------------------------|  \n",
       "| RMSE   | 27,799.45  | Measures how far predicted prices deviate from actual prices in a logarithmic scale, indicating prediction accuracy. |\n",
       "\n",
       "- **Understanding RMSE**: This metric implies that on average, our model's price predictions are about $27,799 off from actual sales prices. This performance level is crucial for businesses focused on pricing strategies in real estate.\n",
       "\n",
       "---\n",
       "\n",
       "## Takeaways\n",
       "\n",
       "- **Conclusion**: The model's RMSE of 27,799.45 highlights a respectable level of accuracy in predictions. This predictiveness signifies its potential application in real-world real estate landscapes, aiding both buyers looking for fair prices and sellers aiming to position their properties competitively in the market. Predictive accuracy like this can greatly streamline sales processes and influence market trends. \n",
       "\n",
       "In essence, effective predictive modeling can transform our understanding of property valuations and market dynamics."
      ],
      "text/plain": [
       "<IPython.core.display.Markdown object>"
      ]
     },
     "metadata": {},
     "output_type": "display_data"
    }
   ],
   "source": [
    "import shutil\n",
    "output_path = os.path.join(os.getcwd(), 'output')\n",
    "if os.path.exists(output_path):\n",
    "    shutil.rmtree(output_path)\n",
    "os.makedirs(output_path, exist_ok=True)\n",
    "\n",
    "inference = AIInference(model=\"github/gpt-4o-mini\")\n",
    "    \n",
    "fedot_ai = FedotAI(\n",
    "        task_path=dataset_path,\n",
    "        inference=inference,\n",
    "        workspace=output_path,\n",
    "        handlers=JupyterOutput().subscribe\n",
    "    )\n",
    "async for _ in fedot_ai.ask(message=description):\n",
    "    continue"
   ]
  },
  {
   "cell_type": "code",
   "execution_count": 4,
   "metadata": {},
   "outputs": [
    {
     "name": "stdout",
     "output_type": "stream",
     "text": [
      "Files in output directory:\n",
      "- pipeline\n",
      "- solution.py\n",
      "- submission.csv\n"
     ]
    }
   ],
   "source": [
    "print(\"Files in output directory:\")\n",
    "for file in os.listdir(output_path):\n",
    "    print(f\"- {file}\")"
   ]
  },
  {
   "cell_type": "code",
   "execution_count": 5,
   "metadata": {},
   "outputs": [
    {
     "name": "stdout",
     "output_type": "stream",
     "text": [
      "Submitting to 'house-prices-advanced-regression-techniques'...\n"
     ]
    },
    {
     "name": "stderr",
     "output_type": "stream",
     "text": [
      "100%|██████████| 32.1k/32.1k [00:01<00:00, 27.6kB/s]\n"
     ]
    },
    {
     "name": "stdout",
     "output_type": "stream",
     "text": [
      "Current status: SubmissionStatus.PENDING (Description: Reading submission and solution). Waiting for scores...\n",
      "\n",
      "Submission details:\n",
      "Date: 2025-05-16 14:31:27.013000\n",
      "Status: SubmissionStatus.COMPLETE\n",
      "Public Score: 0.15460\n",
      "Private Score: \n"
     ]
    },
    {
     "data": {
      "text/plain": [
       "{\"ref\": 44814757, \"totalBytes\": 32855, \"date\": \"2025-05-16T14:31:27.013Z\", \"description\": \"FedotLLM_submission_2025-05-16_17-31-24\", \"errorDescription\": \"\", \"fileName\": \"submission.csv\", \"publicScore\": \"0.15460\", \"privateScore\": \"\", \"status\": \"COMPLETE\", \"submittedBy\": \"alekseilapin\", \"submittedByRef\": \"alekseilapin\", \"teamName\": \"Aleksei Lapin\", \"url\": \"/submissions/44814757/44814757.raw\"}"
      ]
     },
     "execution_count": 5,
     "metadata": {},
     "output_type": "execute_result"
    }
   ],
   "source": [
    "submit_to_kaggle(competition_name=competition_name, submission_file=os.path.join(output_path, \"submission.csv\"))"
   ]
  },
  {
   "cell_type": "code",
   "execution_count": 6,
   "metadata": {},
   "outputs": [
    {
     "data": {
      "image/png": "[encoded data removed]",
      "text/plain": [
       "<Figure size 700x700 with 1 Axes>"
      ]
     },
     "metadata": {},
     "output_type": "display_data"
    }
   ],
   "source": [
    "from fedot import Fedot\n",
    "model = Fedot(problem=\"classification\")\n",
    "model.load(os.path.join(output_path, 'pipeline'))\n",
    "model.current_pipeline.show()"
   ]
  }
 ],
 "metadata": {
  "kernelspec": {
   "display_name": ".venv",
   "language": "python",
   "name": "python3"
  },
  "language_info": {
   "codemirror_mode": {
    "name": "ipython",
    "version": 3
   },
   "file_extension": ".py",
   "mimetype": "text/x-python",
   "name": "python",
   "nbconvert_exporter": "python",
   "pygments_lexer": "ipython3",
   "version": "3.10.16"
  }
 },
 "nbformat": 4,
 "nbformat_minor": 2
}
