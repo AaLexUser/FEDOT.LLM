{
 "cells": [
  {
   "cell_type": "code",
   "execution_count": 1,
   "metadata": {
    "ExecuteTime": {
     "end_time": "2024-09-04T11:50:00.638825Z",
     "start_time": "2024-09-04T11:49:59.220584Z"
    }
   },
   "outputs": [],
   "source": [
    "import os\n",
    "import sys\n",
    "from dotenv import load_dotenv\n",
    "from langchain_openai import ChatOpenAI\n",
    "from langchain_ollama import ChatOllama\n",
    "import asyncio\n",
    "from pathlib import Path\n",
    "module_path = os.path.abspath(os.path.join(os.sep.join(['..'])))\n",
    "if module_path not in sys.path:\n",
    "    sys.path.append(module_path)\n",
    "from fedot_llm.data.loaders import PathDatasetLoader\n",
    "from fedot_llm.main import FedotAI"
   ]
  },
  {
   "cell_type": "code",
   "execution_count": 3,
   "metadata": {
    "ExecuteTime": {
     "end_time": "2024-09-04T11:50:00.646128Z",
     "start_time": "2024-09-04T11:50:00.642874Z"
    }
   },
   "outputs": [],
   "source": [
    "def _set_env(var: str):\n",
    "    if not os.environ.get(var):\n",
    "        print(f\"No {var} in env\")\n",
    "\n",
    "load_dotenv()\n",
    "_set_env(\"LANGSMITH_API_KEY\")\n",
    "_set_env(\"OPENAI_TOKEN\")\n",
    "_set_env(\"VSEGPT_TOKEN\")"
   ]
  },
  {
   "cell_type": "code",
   "execution_count": 4,
   "metadata": {
    "ExecuteTime": {
     "end_time": "2024-09-04T11:50:00.836639Z",
     "start_time": "2024-09-04T11:50:00.834619Z"
    }
   },
   "outputs": [],
   "source": [
    "os.environ[\"LANGCHAIN_TRACING_V2\"] = \"true\"\n",
    "os.environ[\"LANGCHAIN_PROJECT\"] = \"AutoML-LLM\""
   ]
  },
  {
   "cell_type": "code",
   "execution_count": 5,
   "metadata": {},
   "outputs": [],
   "source": [
    "# llm = ChatOpenAI(model='gpt-4o-mini', base_url='https://models.inference.ai.azure.com', api_key=os.environ['OPENAI_TOKEN'])\n",
    "# llm = ChatOpenAI(model='gpt-4o', base_url='https://models.inference.ai.azure.com', api_key=os.environ['OPENAI_TOKEN'])\n",
    "llm = ChatOpenAI(model='openai/gpt-4o-mini', base_url='https://api.vsegpt.ru/v1/', api_key=os.environ['VSEGPT_TOKEN'])\n",
    "\n",
    "msg=\"\"\"Create a model that perform this task:\n",
    "Our client is an insurance company that has provided health insurance to its customers.\n",
    "They are interested in whether the policyholders (customers) from last year\n",
    "will also be interested in the car insurance provided by the company.\"\"\"\n",
    "\n",
    "dataset_path = Path(module_path) / 'datasets' / 'Health_Insurance'\n",
    "dataset = PathDatasetLoader.load(dataset_path)"
   ]
  },
  {
   "cell_type": "code",
   "execution_count": 6,
   "metadata": {},
   "outputs": [
    {
     "data": {
      "text/markdown": [
       "================== HumanMessage ==================\n",
       "\n",
       "Fedot automl classification example?\n",
       "\n",
       "=================== Supervisor ===================\n",
       "\n",
       "Calling ResearcherAgent for help. With args: {'question': 'Can you provide an example of a classification task using the Fedot AutoML framework?'}\n",
       "\n",
       "================ ResearcherAgent =================\n",
       "\n",
       "To perform a classification task using the Fedot AutoML framework, you can follow these steps:\n",
       "\n",
       "1. **Import the necessary libraries**:\n",
       "   ```python\n",
       "   from fedot import Fedot\n",
       "   from fedot.core.data.data import InputData\n",
       "   ```\n",
       "\n",
       "2. **Load your data** and split it into training and testing sets. You can create an `InputData` object from a DataFrame:\n",
       "   ```python\n",
       "   data = InputData.from_dataframe(features_df, target_df, task=Task(TaskTypesEnum.classification))\n",
       "   train, test = train_test_data_setup(data)\n",
       "   ```\n",
       "\n",
       "3. **Initialize the Fedot model** for classification, specifying the metric and timeout:\n",
       "   ```python\n",
       "   model = Fedot(problem='classification', metric='roc_auc', timeout=5)\n",
       "   ```\n",
       "\n",
       "4. **Fit the model** to your training data:\n",
       "   ```python\n",
       "   best_pipeline = model.fit(features=train, target='target')\n",
       "   ```\n",
       "\n",
       "This example demonstrates how to set up a classification task using Fedot, including data preparation and model initialization. You can find more details in the [FEDOT documentation](https://fedot.readthedocs.io/en/latest/examples/classification_example.html) [\\[1\\]](https://fedot.readthedocs.io/en/latest/examples/classification_example.html)."
      ],
      "text/plain": [
       "<IPython.core.display.Markdown object>"
      ]
     },
     "metadata": {},
     "output_type": "display_data"
    },
    {
     "name": "stdout",
     "output_type": "stream",
     "text": [
      "2024-09-13 15:20:22,680 - HTTP Request: POST https://api.vsegpt.ru/v1/chat/completions \"HTTP/1.1 200 OK\"\n"
     ]
    }
   ],
   "source": [
    "from fedot_llm.output.jupyter import JupyterOutput\n",
    "fedot_ai = FedotAI(dataset=dataset, \n",
    "                   model=llm,\n",
    "                   handlers=JupyterOutput().subscribe)\n",
    "await fedot_ai.ask(\"Fedot automl classification example?\")"
   ]
  },
  {
   "cell_type": "code",
   "execution_count": 7,
   "metadata": {},
   "outputs": [
    {
     "data": {
      "text/markdown": [
       "================== HumanMessage ==================\n",
       "\n",
       "Create a model that perform this task:\n",
       "Our client is an insurance company that has provided health insurance to its customers.\n",
       "They are interested in whether the policyholders (customers) from last year\n",
       "will also be interested in the car insurance provided by the company.\n",
       "\n",
       "=================== Supervisor ===================\n",
       "\n",
       "Calling AutoMLAgent for help. With args: {'dataset_description': 'The dataset includes information about policyholders who purchased health insurance last year. Features may include demographics (age, gender, income), health insurance details (policy type, duration, claim history), and any previous interest expressed in car insurance. The task is to predict whether these policyholders will be interested in purchasing car insurance this year.'}\n",
       "\n",
       "================== AutoMLAgent ===================\n",
       "\n",
       "Here is the pipeline of the model I built:\n",
       "\n",
       "# Model Pipeline\n",
       "The pipeline consists of two stages:\n",
       "1. **Scaling**: This stage prepares the data for the model by transforming it, although specific scaling techniques are not defined in the configuration.\n",
       "2. **Random Forest (rf)**: This is the model stage, which utilizes a Random Forest algorithm configured to use 12 jobs for parallel processing to enhance performance.\n",
       "\n",
       "# Model Metrics:\n",
       "| Metric    | Value  |\n",
       "|-----------|--------|\n",
       "| ROC AUC   | 0.844  |\n",
       "| Accuracy  | 0.871  |\n",
       "\n",
       "These metrics indicate that the model performs well in distinguishing between the classes. \n",
       "\n",
       "- **ROC AUC (Receiver Operating Characteristic Area Under the Curve)**: A value of 0.844 suggests that the model has a good ability to discriminate between positive and negative classes. The closer the value is to 1, the better the model is at making correct predictions.\n",
       "  \n",
       "- **Accuracy**: An accuracy of 0.871 indicates that the model correctly classified approximately 87.1% of the instances in the dataset. This reflects a high level of overall correctness in the model's predictions."
      ],
      "text/plain": [
       "<IPython.core.display.Markdown object>"
      ]
     },
     "metadata": {},
     "output_type": "display_data"
    }
   ],
   "source": [
    "from fedot_llm.output.jupyter import JupyterOutput\n",
    "fedot_ai = FedotAI(dataset=dataset, \n",
    "                   model=llm,\n",
    "                   handlers=JupyterOutput().subscribe)\n",
    "await fedot_ai.ask(msg)"
   ]
  }
 ],
 "metadata": {
  "kernelspec": {
   "display_name": ".venv",
   "language": "python",
   "name": "python3"
  },
  "language_info": {
   "codemirror_mode": {
    "name": "ipython",
    "version": 3
   },
   "file_extension": ".py",
   "mimetype": "text/x-python",
   "name": "python",
   "nbconvert_exporter": "python",
   "pygments_lexer": "ipython3",
   "version": "3.10.11"
  }
 },
 "nbformat": 4,
 "nbformat_minor": 2
}
