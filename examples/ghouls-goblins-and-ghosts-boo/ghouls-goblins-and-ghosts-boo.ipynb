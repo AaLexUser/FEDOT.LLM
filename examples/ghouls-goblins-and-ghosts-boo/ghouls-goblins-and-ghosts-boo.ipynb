{
 "cells": [
  {
   "cell_type": "markdown",
   "metadata": {},
   "source": [
    "# Ghouls, Goblins, and Ghosts... Boo!\n",
    "https://www.kaggle.com/competitions/ghouls-goblins-and-ghosts-boo"
   ]
  },
  {
   "cell_type": "code",
   "execution_count": 1,
   "metadata": {},
   "outputs": [
    {
     "name": "stdout",
     "output_type": "stream",
     "text": [
      "Downloading dataset to: /Users/aleksejlapin/Work/STABLE-FedotLLM/examples/ghouls-goblins-and-ghosts-boo/competition\n",
      "Extracting nested zip: /Users/aleksejlapin/Work/STABLE-FedotLLM/examples/ghouls-goblins-and-ghosts-boo/competition/test.csv.zip\n",
      "Extracting nested zip: /Users/aleksejlapin/Work/STABLE-FedotLLM/examples/ghouls-goblins-and-ghosts-boo/competition/train.csv.zip\n",
      "Extracting nested zip: /Users/aleksejlapin/Work/STABLE-FedotLLM/examples/ghouls-goblins-and-ghosts-boo/competition/sample_submission.csv.zip\n",
      "Dataset downloaded and extracted to /Users/aleksejlapin/Work/STABLE-FedotLLM/examples/ghouls-goblins-and-ghosts-boo/competition\n"
     ]
    }
   ],
   "source": [
    "import sys, os\n",
    "\n",
    "module_path = os.path.abspath(os.path.join(os.getcwd(), '..', '..'))\n",
    "\n",
    "if module_path not in sys.path:\n",
    "    sys.path.insert(0, module_path)\n",
    "\n",
    "from fedotllm.main import FedotAI\n",
    "from fedotllm.output import JupyterOutput\n",
    "from fedotllm.llm import AIInference\n",
    "from examples.kaggle import download_from_kaggle, submit_to_kaggle\n",
    "\n",
    "competition_name = \"ghouls-goblins-and-ghosts-boo\"\n",
    "dataset_path = os.path.join(os.getcwd(), \"competition\")\n",
    "download_from_kaggle(competition_name=competition_name, save_path=dataset_path)"
   ]
  },
  {
   "cell_type": "code",
   "execution_count": 2,
   "metadata": {
    "ExecuteTime": {
     "end_time": "2024-08-10T10:02:39.374269Z",
     "start_time": "2024-08-10T10:02:39.371821Z"
    }
   },
   "outputs": [],
   "source": [
    "description=\"\"\"Get out your dowsing rods, electromagnetic sensors, … and gradient boosting machines. Kaggle is haunted and we need your help. After a month of making scientific observations and taking careful measurements, we’ve determined that 900 ghouls, ghosts, and goblins are infesting our halls and frightening our data scientists. When trying garlic, asking politely, and using reverse psychology didn't work, it became clear that machine learning is the only answer to banishing our unwanted guests.\n",
    "So now the hour has come to put the data we’ve collected in your hands. We’ve managed to identify 371 of the ghastly creatures, but need your help to vanquish the rest. And only an accurate classification algorithm can thwart them. Use bone length measurements, severity of rot, extent of soullessness, and other characteristics to distinguish (and extinguish) the intruders. Are you ghost-busters up for the challenge?\n",
    "Evaluation\n",
    "Submissions are evaluated on the categorization accuracy (the percent of creatures that you correctly classify).\n",
    "\n",
    "File descriptions\n",
    "train.csv - the training set\n",
    "test.csv - the test set\n",
    "sample_submission.csv - a sample submission file in the correct format\n",
    "Data fields\n",
    "id - id of the creature\n",
    "bone_length - average length of bone in the creature, normalized between 0 and 1\n",
    "rotting_flesh - percentage of rotting flesh in the creature\n",
    "hair_length - average hair length, normalized between 0 and 1\n",
    "has_soul - percentage of soul in the creature\n",
    "color - dominant color of the creature: 'white','black','clear','blue','green','blood'\n",
    "type - target variable: 'Ghost', 'Goblin', and 'Ghoul'\n",
    "\"\"\""
   ]
  },
  {
   "cell_type": "code",
   "execution_count": 3,
   "metadata": {},
   "outputs": [
    {
     "data": {
      "text/markdown": [
       "================== HumanMessage ==================\n",
       "\n",
       "Get out your dowsing rods, electromagnetic sensors, … and gradient boosting machines. Kaggle is haunted and we need your help. After a month of making scientific observations and taking careful measurements, we’ve determined that 900 ghouls, ghosts, and goblins are infesting our halls and frightening our data scientists. When trying garlic, asking politely, and using reverse psychology didn't work, it became clear that machine learning is the only answer to banishing our unwanted guests.\n",
       "So now the hour has come to put the data we’ve collected in your hands. We’ve managed to identify 371 of the ghastly creatures, but need your help to vanquish the rest. And only an accurate classification algorithm can thwart them. Use bone length measurements, severity of rot, extent of soullessness, and other characteristics to distinguish (and extinguish) the intruders. Are you ghost-busters up for the challenge?\n",
       "Evaluation\n",
       "Submissions are evaluated on the categorization accuracy (the percent of creatures that you correctly classify).\n",
       "\n",
       "File descriptions\n",
       "train.csv - the training set\n",
       "test.csv - the test set\n",
       "sample_submission.csv - a sample submission file in the correct format\n",
       "Data fields\n",
       "id - id of the creature\n",
       "bone_length - average length of bone in the creature, normalized between 0 and 1\n",
       "rotting_flesh - percentage of rotting flesh in the creature\n",
       "hair_length - average hair length, normalized between 0 and 1\n",
       "has_soul - percentage of soul in the creature\n",
       "color - dominant color of the creature: 'white','black','clear','blue','green','blood'\n",
       "type - target variable: 'Ghost', 'Goblin', and 'Ghoul'\n",
       "\n",
       "\n",
       "================== AutoMLAgent ===================\n",
       "\n",
       "# Ghost Busting with Machine Learning: A Model Evaluation\n",
       "\n",
       "## Overview  \n",
       "**Problem:**   \n",
       "Kaggle's haunted competition presents an intriguing challenge: classify 900 spooky creatures—goblins, ghosts, and ghouls—using collected data. With only 371 identified, we turned to machine learning to decipher these data-nabbing fiends. Using attributes like bone length, flesh rot, and soul percentage, our goal is to accurately classify each creature. \n",
       "\n",
       "**Goal:**  \n",
       "The purpose of the model is to harness machine learning techniques to differentiate between these spectral entities. By analyzing various characteristics of the creatures, we aim to achieve a classification accuracy that aids Kaggle's data scientists in successfully identifying and banishing the remaining haunts from the halls.\n",
       "\n",
       "## Data Preprocessing  \n",
       "Before jumping into predictive modeling, we must clean and prepare our data.  \n",
       "- **Handling Numerical Features:**  \n",
       "  - We employed **mean imputation**: Much like filling in blanks during a quiz, if some creatures didn’t have a listed feature (like bone length), we used the average measured value for those missing entries.  \n",
       "- **Encoding Categorical Features:**  \n",
       "  - In our dataset, color is categorical (i.e., 'white', 'black', etc.). We converted this into numerical form using **One-Hot Encoding**, transforming each category into a binary format. For example, 'white' becomes `[1, 0, 0, 0, 0, 0]`.\n",
       "- **Feature Scaling:**   \n",
       "  - We applied **Standard Scaling** to normalize our features. This ensures that each attribute is on a similar scale, making it easier for the model to learn patterns. Numerical features like 'bone_length' were adjusted from varied ranges to a consistent format (mean of 0 and standard deviation of 1).\n",
       "\n",
       "## Pipeline Summary  \n",
       "Here's an overview of our modeling pipeline, focusing on the steps taken to optimize our ghost-busting efforts:\n",
       "\n",
       "| Model       | Parameters                                                                  | Explanation                                             |\n",
       "|-------------|-----------------------------------------------------------------------------|---------------------------------------------------------|\n",
       "| CatBoost     | num_trees: 3000, learning_rate: 0.03, max_depth: 5, l2_leaf_reg: 0.01   | CatBoost utilizes gradient boosting, a strategy effective for classification tasks with high-dimensional data.|\n",
       "\n",
       "This setup allows the model to learn effectively from our training data, fitting the complexities of ghostly characteristics without overfitting.\n",
       "\n",
       "## Code Highlights:  \n",
       "The following code snippets showcase critical areas of our implementation:\n",
       "\n",
       "```python\n",
       "def train_model(train_features: pd.DataFrame, train_target: pd.DataFrame):\n",
       "    input_data = InputData.from_dataframe(train_features, train_target, task='classification')\n",
       "    model = Fedot(problem=TaskTypesEnum.classification.value, timeout=60.0, seed=42)\n",
       "    \n",
       "    model.fit(features=input_data)  # Training step\n",
       "    \n",
       "    return model\n",
       "```\n",
       "This snippet outlines how we initiate the training of our model, feeding it our processed features and target labels so that it can learn to distinguish between the spectral classifications accurately.\n",
       "\n",
       "## Metrics Table  \n",
       "Here's a breakdown of our model's performance metrics:\n",
       "\n",
       "| Metric     | Value | Explanation                               |  \n",
       "|------------|-------|-------------------------------------------|  \n",
       "| Accuracy   | 0.84  | Indicates that 84% of the time, our model accurately classifies the types of creatures.  |  \n",
       "\n",
       "Accuracy tells us how often the model gets it right—an essential benchmark, especially in such a whimsical but serious competition!\n",
       "\n",
       "## Takeaways  \n",
       "Our machine learning model has successfully achieved an accuracy of **84%** in classifying the types of spectral creatures. This result signifies a potent ability to distinguish among the shades of the supernatural, demonstrating the model's valuable application in tackling similar classification challenges in real-world contexts. As we face the haunting specter of misclassification, this innovative solution brings us closer to a data-driven exorcism!"
      ],
      "text/plain": [
       "<IPython.core.display.Markdown object>"
      ]
     },
     "metadata": {},
     "output_type": "display_data"
    }
   ],
   "source": [
    "import shutil\n",
    "output_path = os.path.join(os.getcwd(), 'output')\n",
    "if os.path.exists(output_path):\n",
    "    shutil.rmtree(output_path)\n",
    "os.makedirs(output_path, exist_ok=True)\n",
    "\n",
    "inference = AIInference(model=\"github/gpt-4o-mini\")\n",
    "    \n",
    "fedot_ai = FedotAI(\n",
    "        task_path=dataset_path,\n",
    "        inference=inference,\n",
    "        workspace=output_path,\n",
    "        handlers=JupyterOutput().subscribe\n",
    "    )\n",
    "async for _ in fedot_ai.ask(message=description):\n",
    "    continue"
   ]
  },
  {
   "cell_type": "code",
   "execution_count": 7,
   "metadata": {},
   "outputs": [
    {
     "name": "stdout",
     "output_type": "stream",
     "text": [
      "Files in output directory:\n",
      "- pipeline\n",
      "- solution.py\n",
      "- submission.csv\n"
     ]
    }
   ],
   "source": [
    "print(\"Files in output directory:\")\n",
    "for file in os.listdir(output_path):\n",
    "    print(f\"- {file}\")"
   ]
  },
  {
   "cell_type": "code",
   "execution_count": 1,
   "metadata": {},
   "outputs": [
    {
     "name": "stdout",
     "output_type": "stream",
     "text": [
      "Submitting to 'ghouls-goblins-and-ghosts-boo'...\n"
     ]
    },
    {
     "name": "stderr",
     "output_type": "stream",
     "text": [
      "100%|██████████| 5.27k/5.27k [00:00<00:00, 6.86kB/s]\n"
     ]
    },
    {
     "name": "stdout",
     "output_type": "stream",
     "text": [
      "\n",
      "Submission details:\n",
      "Date: 2025-05-16 12:55:32.013000\n",
      "Status: SubmissionStatus.COMPLETE\n",
      "Public Score: 0.73345\n",
      "Private Score: 0.73345\n"
     ]
    },
    {
     "data": {
      "text/plain": [
       "{\"ref\": 44812630, \"totalBytes\": 5399, \"date\": \"2025-05-16T12:55:32.013Z\", \"description\": \"FedotLLM_submission_2025-05-16_15-55-30\", \"errorDescription\": \"\", \"fileName\": \"submission.csv\", \"publicScore\": \"0.73345\", \"privateScore\": \"0.73345\", \"status\": \"COMPLETE\", \"submittedBy\": \"alekseilapin\", \"submittedByRef\": \"alekseilapin\", \"teamName\": \"Aleksei Lapin\", \"url\": \"/submissions/44812630/44812630.raw\"}"
      ]
     },
     "execution_count": 1,
     "metadata": {},
     "output_type": "execute_result"
    }
   ],
   "source": [
    "import sys, os\n",
    "output_path = os.path.join(os.getcwd(), 'output')\n",
    "module_path = os.path.abspath(os.path.join(os.getcwd(), '..', '..'))\n",
    "\n",
    "if module_path not in sys.path:\n",
    "    sys.path.insert(0, module_path)\n",
    "from examples.kaggle import submit_to_kaggle\n",
    "competition_name = \"ghouls-goblins-and-ghosts-boo\"\n",
    "submit_to_kaggle(competition_name=competition_name, submission_file=os.path.join(output_path, \"submission.csv\"))"
   ]
  },
  {
   "cell_type": "code",
   "execution_count": 6,
   "metadata": {},
   "outputs": [
    {
     "data": {
      "image/png": "[encoded data removed]",
      "text/plain": [
       "<Figure size 700x700 with 1 Axes>"
      ]
     },
     "metadata": {},
     "output_type": "display_data"
    }
   ],
   "source": [
    "from fedot import Fedot\n",
    "model = Fedot(problem=\"classification\")\n",
    "model.load(os.path.join(output_path, 'pipeline'))\n",
    "model.current_pipeline.show()"
   ]
  }
 ],
 "metadata": {
  "kernelspec": {
   "display_name": ".venv",
   "language": "python",
   "name": "python3"
  },
  "language_info": {
   "codemirror_mode": {
    "name": "ipython",
    "version": 3
   },
   "file_extension": ".py",
   "mimetype": "text/x-python",
   "name": "python",
   "nbconvert_exporter": "python",
   "pygments_lexer": "ipython3",
   "version": "3.10.16"
  }
 },
 "nbformat": 4,
 "nbformat_minor": 2
}
