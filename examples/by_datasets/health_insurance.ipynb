{
 "cells": [
  {
   "cell_type": "markdown",
   "metadata": {},
   "source": [
    "# Health Insurance Cross Sell Prediction using FEDOT and LLM"
   ]
  },
  {
   "cell_type": "markdown",
   "metadata": {},
   "source": [
    "## Setup"
   ]
  },
  {
   "cell_type": "code",
   "execution_count": 1,
   "metadata": {
    "ExecuteTime": {
     "end_time": "2024-07-29T10:58:44.553735Z",
     "start_time": "2024-07-29T10:58:43.144845Z"
    }
   },
   "outputs": [],
   "source": [
    "import os\n",
    "import sys\n",
    "import re\n",
    "\n",
    "import numpy as np\n",
    "import pandas as pd\n",
    "\n",
    "from pprint import pprint\n",
    "\n",
    "module_path = os.path.abspath(os.path.join(os.sep.join(['..', '..'])))\n",
    "if module_path not in sys.path:\n",
    "    sys.path.append(module_path)\n",
    "\n",
    "from fedot_llm.fedot_util import run_example\n",
    "from fedot_llm.language_models.actions import ModelAction\n",
    "from fedot_llm.language_models.llms import OllamaLLM\n",
    "from fedot_llm.data.data import Dataset\n",
    "from fedot_llm.language_models import prompts"
   ]
  },
  {
   "cell_type": "markdown",
   "metadata": {},
   "source": [
    "## Data Loading and Exploration\n",
    "\n",
    "In this section, we load the Health Insurance dataset."
   ]
  },
  {
   "cell_type": "code",
   "execution_count": 2,
   "metadata": {
    "ExecuteTime": {
     "end_time": "2024-07-29T10:58:44.749054Z",
     "start_time": "2024-07-29T10:58:44.554739Z"
    }
   },
   "outputs": [],
   "source": [
    "dataset_name = 'health_insurance'\n",
    "datasets_folder = os.sep.join([module_path, 'datasets'])\n",
    "dataset_path = os.sep.join([datasets_folder, dataset_name])\n",
    "dataset = Dataset.load_from_path(dataset_path)"
   ]
  },
  {
   "cell_type": "code",
   "execution_count": 3,
   "metadata": {
    "ExecuteTime": {
     "end_time": "2024-07-29T10:58:44.752620Z",
     "start_time": "2024-07-29T10:58:44.749856Z"
    }
   },
   "outputs": [
    {
     "name": "stdout",
     "output_type": "stream",
     "text": [
      "('Our client is an Insurance company that has provided Health Insurance to its '\n",
      " 'customers now they need your help in building a model to predict whether the '\n",
      " 'policyholders (customers) from past year will also be interested in Vehicle '\n",
      " 'Insurance provided by the company.\\n'\n",
      " 'Building a model to predict whether a customer would be interested in '\n",
      " 'Vehicle Insurance is extremely helpful for the company because it can then '\n",
      " 'accordingly plan its communication strategy to reach out to those customers '\n",
      " 'and optimise its business model and revenue.\\n'\n",
      " 'Now, in order to predict, whether the customer would be interested in '\n",
      " 'Vehicle insurance, you have information about demographics (gender, age, '\n",
      " 'region code type), Vehicles (Vehicle Age, Damage), Policy (Premium, sourcing '\n",
      " 'channel) etc.')\n"
     ]
    }
   ],
   "source": [
    "import json\n",
    "description_file = 'big_descriptions.json'\n",
    "with open(os.sep.join([datasets_folder, description_file]), 'r') as json_file:\n",
    "    dataset_big_descriptions = json.load(json_file)\n",
    "big_description = dataset_big_descriptions[dataset_name]\n",
    "pprint(big_description)"
   ]
  },
  {
   "cell_type": "code",
   "execution_count": 4,
   "metadata": {
    "ExecuteTime": {
     "end_time": "2024-07-29T10:58:44.754957Z",
     "start_time": "2024-07-29T10:58:44.753257Z"
    }
   },
   "outputs": [
    {
     "name": "stdout",
     "output_type": "stream",
     "text": [
      "Assume we have a datasetThe dataset contains the following splits:\n",
      "\n",
      "The test split stored in file \"test.csv\" contains following columns: ['id', 'Gender', 'Age', 'Driving_License', 'Region_Code', 'Previously_Insured', 'Vehicle_Age', 'Vehicle_Damage', 'Annual_Premium', 'Policy_Sales_Channel', 'Vintage']. It is described as None\n",
      "The train split stored in file \"train.csv\" contains following columns: ['id', 'Gender', 'Age', 'Driving_License', 'Region_Code', 'Previously_Insured', 'Vehicle_Age', 'Vehicle_Damage', 'Annual_Premium', 'Policy_Sales_Channel', 'Vintage', 'Response']. It is described as None\n",
      "----------------------------------------------------------------------------------------------------\n",
      "splits:\n",
      "\n",
      "name: test \n",
      "path: /Users/aleksejlapin/Work/AutoML-LLM/AutoML-LLM-24-Jul/datasets/health_insurance/test.csv \n",
      "description: None\n",
      "\n",
      "name: train \n",
      "path: /Users/aleksejlapin/Work/AutoML-LLM/AutoML-LLM-24-Jul/datasets/health_insurance/train.csv \n",
      "description: None\n",
      "\n"
     ]
    }
   ],
   "source": [
    "print(dataset.detailed_description)\n",
    "print(\"-\"*100)\n",
    "print(dataset.metadata_description)"
   ]
  },
  {
   "cell_type": "markdown",
   "metadata": {},
   "source": [
    "## Dataset Analysis using LLM\n",
    "\n",
    "Here we use LLM to analyze and describe various aspects of the dataset."
   ]
  },
  {
   "cell_type": "code",
   "execution_count": 5,
   "metadata": {
    "ExecuteTime": {
     "end_time": "2024-07-29T10:58:44.758268Z",
     "start_time": "2024-07-29T10:58:44.756650Z"
    }
   },
   "outputs": [],
   "source": [
    "model = OllamaLLM(model='llama3')\n",
    "action = ModelAction(model=model)"
   ]
  },
  {
   "cell_type": "markdown",
   "metadata": {},
   "source": [
    "### Define dataset Name, Description and Goal"
   ]
  },
  {
   "cell_type": "code",
   "execution_count": 6,
   "metadata": {
    "ExecuteTime": {
     "end_time": "2024-07-29T10:58:48.543734Z",
     "start_time": "2024-07-29T10:58:44.758990Z"
    }
   },
   "outputs": [
    {
     "name": "stdout",
     "output_type": "stream",
     "text": [
      "Dataset name: Policyholder_Vehicle_Insurance_Interest\n",
      "Dataset description: Here's a short description of the dataset:\n",
      "\n",
      "This dataset contains information about policyholders from a previous year, with the goal of predicting their interest in vehicle insurance. The dataset consists of two splits: \"train.csv\" and \"test.csv\". The train split includes additional columns such as 'Response', which indicates whether each policyholder is interested in vehicle insurance or not. The test split lacks this column, allowing for model evaluation on unseen data. The dataset includes demographic information (gender, age), details about vehicles (age, damage), and policy-related attributes (premium, sales channel). This rich set of features can be used to build a predictive model that estimates the likelihood of a policyholder being interested in vehicle insurance.\n",
      "Dataset goal: Task: Predict whether a customer will show interest in Vehicle Insurance based on their demographic information, vehicle details, and policy characteristics.\n",
      "\n",
      "Target Column: \"Vehicle Insurance Interest\"\n"
     ]
    }
   ],
   "source": [
    "task_prompts = {\n",
    "    \"dataset_name\": {\n",
    "        \"system\": big_description,\n",
    "        \"task\": prompts.dataset_name_prompt,\n",
    "        \"context\": None,\n",
    "    },\n",
    "    \"dataset_description\": {\n",
    "        \"system\": big_description,\n",
    "        \"task\": prompts.dataset_description_prompt,\n",
    "        \"context\": dataset.detailed_description,\n",
    "    },\n",
    "    \"dataset_goal\": {\n",
    "        \"system\": big_description,\n",
    "        \"task\": prompts.dataset_goal_prompt,\n",
    "        \"context\": dataset.description,\n",
    "    }\n",
    "}\n",
    "\n",
    "responses = action.run_model_multicall(\n",
    "    task_prompts\n",
    ")\n",
    "dataset.name = responses[\"dataset_name\"]\n",
    "dataset.description = responses[\"dataset_description\"]\n",
    "dataset.goal = responses[\"dataset_goal\"]\n",
    "\n",
    "print(f\"Dataset name: {dataset.name}\")\n",
    "print(f\"Dataset description: {dataset.description}\")\n",
    "print(f\"Dataset goal: {dataset.goal}\")"
   ]
  },
  {
   "cell_type": "code",
   "execution_count": 7,
   "metadata": {
    "ExecuteTime": {
     "end_time": "2024-07-29T10:58:48.547100Z",
     "start_time": "2024-07-29T10:58:48.545223Z"
    }
   },
   "outputs": [
    {
     "name": "stdout",
     "output_type": "stream",
     "text": [
      "Assume we have a dataset called Policyholder_Vehicle_Insurance_Interest\n",
      "It could be described as following: Here's a short description of the dataset:\n",
      "\n",
      "This dataset contains information about policyholders from a previous year, with the goal of predicting their interest in vehicle insurance. The dataset consists of two splits: \"train.csv\" and \"test.csv\". The train split includes additional columns such as 'Response', which indicates whether each policyholder is interested in vehicle insurance or not. The test split lacks this column, allowing for model evaluation on unseen data. The dataset includes demographic information (gender, age), details about vehicles (age, damage), and policy-related attributes (premium, sales channel). This rich set of features can be used to build a predictive model that estimates the likelihood of a policyholder being interested in vehicle insurance.\n",
      "The goal is: Task: Predict whether a customer will show interest in Vehicle Insurance based on their demographic information, vehicle details, and policy characteristics.\n",
      "\n",
      "Target Column: \"Vehicle Insurance Interest\"\n",
      "The dataset contains the following splits:\n",
      "\n",
      "The test split stored in file \"test.csv\" contains following columns: ['id', 'Gender', 'Age', 'Driving_License', 'Region_Code', 'Previously_Insured', 'Vehicle_Age', 'Vehicle_Damage', 'Annual_Premium', 'Policy_Sales_Channel', 'Vintage']. It is described as None\n",
      "The train split stored in file \"train.csv\" contains following columns: ['id', 'Gender', 'Age', 'Driving_License', 'Region_Code', 'Previously_Insured', 'Vehicle_Age', 'Vehicle_Damage', 'Annual_Premium', 'Policy_Sales_Channel', 'Vintage', 'Response']. It is described as None\n"
     ]
    }
   ],
   "source": [
    "print(dataset.detailed_description)"
   ]
  },
  {
   "cell_type": "markdown",
   "metadata": {},
   "source": [
    "### Define dataset Train and Test splits"
   ]
  },
  {
   "cell_type": "code",
   "execution_count": 8,
   "metadata": {
    "ExecuteTime": {
     "end_time": "2024-07-29T10:59:25.475915Z",
     "start_time": "2024-07-29T10:59:25.206552Z"
    }
   },
   "outputs": [
    {
     "name": "stdout",
     "output_type": "stream",
     "text": [
      "Train split:\n",
      "name: train \n",
      "path: /Users/aleksejlapin/Work/AutoML-LLM/AutoML-LLM-24-Jul/datasets/health_insurance/train.csv \n",
      "description: None\n",
      "\n",
      "\n",
      "Test split: name: test \n",
      "path: /Users/aleksejlapin/Work/AutoML-LLM/AutoML-LLM-24-Jul/datasets/health_insurance/test.csv \n",
      "description: None\n"
     ]
    }
   ],
   "source": [
    "task_prompts = {\n",
    "    \"train_split\": {\n",
    "        \"system\": dataset.detailed_description,\n",
    "        \"task\": prompts.train_split_definition_prompt,\n",
    "        \"context\": f\"Available splits:\\n{dataset.metadata_description}\",\n",
    "    },\n",
    "    \"test_split\": {\n",
    "        \"system\": dataset.detailed_description,\n",
    "        \"task\": prompts.test_split_definition_prompt,\n",
    "        \"context\": f\"Available splits:\\n{dataset.metadata_description}\",\n",
    "    }\n",
    "}\n",
    "\n",
    "responses = action.run_model_multicall(\n",
    "    task_prompts\n",
    ")\n",
    "operations = {\n",
    "    \"train_split\": lambda x : x.split(\".\")[0],\n",
    "    \"test_split\": lambda x  : x.split(\".\")[0],\n",
    "}\n",
    "responses = action.process_model_responses(responses, operations)\n",
    "\n",
    "dataset.train_split = responses[\"train_split\"]\n",
    "dataset.test_split = responses[\"test_split\"]\n",
    "\n",
    "\n",
    "print(f\"Train split:\\n{dataset.train_split}\\n\\n\")\n",
    "print(f\"Test split: {dataset.test_split}\")"
   ]
  },
  {
   "cell_type": "markdown",
   "metadata": {
    "ExecuteTime": {
     "end_time": "2024-07-29T10:58:50.260606Z",
     "start_time": "2024-07-29T10:58:50.259406Z"
    }
   },
   "source": [
    "### Column Descriptions"
   ]
  },
  {
   "cell_type": "code",
   "execution_count": 9,
   "metadata": {},
   "outputs": [
    {
     "name": "stdout",
     "output_type": "stream",
     "text": [
      "{'Age': 'The age of the policyholder, ranging from 22 to 85.',\n",
      " 'Annual_Premium': 'The annual premium paid by policyholders, ranging from '\n",
      "                   '$13475 to $99715.',\n",
      " 'Driving_License': 'Indicator for whether the policyholder has a driving '\n",
      "                    'license (0 or 1)',\n",
      " 'Gender': 'Binary variable representing the gender of a policyholder, either '\n",
      "           \"'Male' or 'Female'.\",\n",
      " 'Policy_Sales_Channel': 'The policy sales channel is represented by a unique '\n",
      "                         'identifier, with values ranging from 2 to 160.',\n",
      " 'Previously_Insured': 'Indicates whether the policyholder was previously '\n",
      "                       'insured (0 = no, 1 = yes)',\n",
      " 'Region_Code': \"A unique code identifying the policyholder's region of \"\n",
      "                'residence',\n",
      " 'Response': 'Binary variable indicating interest (1) or non-interest (0) in '\n",
      "             'vehicle insurance.',\n",
      " 'Vehicle_Age': 'The age of the vehicle, categorized as being greater than 2 '\n",
      "                'years old, between 1 and 2 years old, or less than 1 year '\n",
      "                'old.',\n",
      " 'Vehicle_Damage': 'Indicates if a vehicle is damaged or not',\n",
      " 'Vintage': 'The age of the vehicle in years, ranging from 22 to 298.',\n",
      " 'id': 'Unique identifier for each policyholder.'}\n"
     ]
    }
   ],
   "source": [
    "column_descriptions = action.generate_all_column_description(split=dataset.train_split, dataset=dataset)\n",
    "dataset.train_split.set_column_descriptions(column_descriptions)\n",
    "pprint(column_descriptions)"
   ]
  },
  {
   "cell_type": "markdown",
   "metadata": {},
   "source": [
    "### Target Column and Task Type Identification"
   ]
  },
  {
   "cell_type": "code",
   "execution_count": 10,
   "metadata": {},
   "outputs": [
    {
     "name": "stdout",
     "output_type": "stream",
     "text": [
      "Target column: Response\n",
      "Task type: classification\n"
     ]
    }
   ],
   "source": [
    "task_prompts = {\n",
    "    \"target_column\": {\n",
    "        \"system\": dataset.description,\n",
    "        \"task\": prompts.target_definition_prompt,\n",
    "        \"context\": None,\n",
    "    },\n",
    "    \"task_type\": {\n",
    "        \"system\": dataset.description,\n",
    "        \"task\": prompts.task_definition_prompt,\n",
    "        \"context\": None,\n",
    "    }\n",
    "}\n",
    "\n",
    "responses = action.run_model_multicall(\n",
    "    task_prompts\n",
    ")\n",
    "\n",
    "pattern = r'[\\'\\\"“”‘’`´]'\n",
    "operations = {\n",
    "    \"target_column\" :  lambda x : re.sub(pattern, '', x),\n",
    "    \"task_type\": lambda x : re.sub(pattern, '', x.lower())\n",
    "}\n",
    "responses = action.process_model_responses(responses, operations)\n",
    "dataset.target_name = responses[\"target_column\"]\n",
    "dataset.task_type = responses[\"task_type\"]\n",
    "\n",
    "print(f\"Target column: {dataset.target_name}\")\n",
    "print(f\"Task type: {dataset.task_type}\")"
   ]
  },
  {
   "cell_type": "markdown",
   "metadata": {},
   "source": [
    "### Categorical Columns Identification"
   ]
  },
  {
   "cell_type": "code",
   "execution_count": 11,
   "metadata": {},
   "outputs": [
    {
     "name": "stdout",
     "output_type": "stream",
     "text": [
      "['Gender',\n",
      " 'Driving_License',\n",
      " 'Region_Code',\n",
      " 'Previously_Insured',\n",
      " 'Vehicle_Age',\n",
      " 'Vehicle_Damage']\n"
     ]
    }
   ],
   "source": [
    "categorical_columns =  action.get_categorical_features(split=dataset.train_split, dataset=dataset)\n",
    "pprint(categorical_columns)"
   ]
  },
  {
   "cell_type": "markdown",
   "metadata": {},
   "source": [
    "## FEDOT Framework Execution\n",
    "In this section, we prepare the data and run the FEDOT framework to generate predictions."
   ]
  },
  {
   "cell_type": "code",
   "execution_count": 26,
   "metadata": {},
   "outputs": [],
   "source": [
    "from fedot import Fedot\n",
    "import logging\n",
    "model = Fedot(problem=dataset.task_type,\n",
    "              seed=42,\n",
    "              timeout=5,\n",
    "              cv_folds = 10,\n",
    "              metric = ['roc_auc', 'accuracy'], \n",
    "              logging_level=logging.FATAL,\n",
    "              n_jobs=-1)"
   ]
  },
  {
   "cell_type": "code",
   "execution_count": 27,
   "metadata": {},
   "outputs": [],
   "source": [
    "best_pipeline = model.fit(features=dataset.train_split.data, target=dataset.target_name)"
   ]
  },
  {
   "cell_type": "code",
   "execution_count": 28,
   "metadata": {},
   "outputs": [
    {
     "data": {
      "image/png": "[encoded data removed]",
      "text/plain": [
       "<Figure size 700x700 with 1 Axes>"
      ]
     },
     "metadata": {},
     "output_type": "display_data"
    },
    {
     "name": "stdout",
     "output_type": "stream",
     "text": [
      "Pipeline structure:\n",
      "{'depth': 2, 'length': 2, 'nodes': [rf, scaling]}\n",
      "rf - {'n_jobs': 12}\n",
      "scaling - {}\n"
     ]
    }
   ],
   "source": [
    "best_pipeline.show()\n",
    "best_pipeline.print_structure()"
   ]
  },
  {
   "cell_type": "code",
   "execution_count": 30,
   "metadata": {},
   "outputs": [
    {
     "ename": "Exception",
     "evalue": "Invalid fitness after objective evaluation. Skipping the graph: (/n_scaling;)/n_rf_{'n_jobs': 12}",
     "output_type": "error",
     "traceback": [
      "\u001b[0;31m---------------------------------------------------------------------------\u001b[0m",
      "\u001b[0;31mException\u001b[0m                                 Traceback (most recent call last)",
      "Cell \u001b[0;32mIn[30], line 2\u001b[0m\n\u001b[1;32m      1\u001b[0m prediction \u001b[38;5;241m=\u001b[39m model\u001b[38;5;241m.\u001b[39mpredict_proba(features\u001b[38;5;241m=\u001b[39mdataset\u001b[38;5;241m.\u001b[39mtest_split\u001b[38;5;241m.\u001b[39mdata)\n\u001b[0;32m----> 2\u001b[0m auto_metrics \u001b[38;5;241m=\u001b[39m \u001b[43mmodel\u001b[49m\u001b[38;5;241;43m.\u001b[39;49m\u001b[43mget_metrics\u001b[49m\u001b[43m(\u001b[49m\u001b[43m)\u001b[49m\n\u001b[1;32m      3\u001b[0m \u001b[38;5;28mprint\u001b[39m(auto_metrics)\n",
      "File \u001b[0;32m~/Work/AutoML-LLM/AutoML-LLM-24-Jul/.venv/lib/python3.10/site-packages/fedot/api/main.py:461\u001b[0m, in \u001b[0;36mFedot.get_metrics\u001b[0;34m(self, target, metric_names, in_sample, validation_blocks, rounding_order)\u001b[0m\n\u001b[1;32m    454\u001b[0m objective \u001b[38;5;241m=\u001b[39m MetricsObjective(metrics)\n\u001b[1;32m    455\u001b[0m obj_eval \u001b[38;5;241m=\u001b[39m PipelineObjectiveEvaluate(objective\u001b[38;5;241m=\u001b[39mobjective,\n\u001b[1;32m    456\u001b[0m                                      data_producer\u001b[38;5;241m=\u001b[39m\u001b[38;5;28;01mlambda\u001b[39;00m: (\u001b[38;5;28;01myield\u001b[39;00m \u001b[38;5;28mself\u001b[39m\u001b[38;5;241m.\u001b[39mtrain_data, \u001b[38;5;28mself\u001b[39m\u001b[38;5;241m.\u001b[39mtest_data),\n\u001b[1;32m    457\u001b[0m                                      validation_blocks\u001b[38;5;241m=\u001b[39mvalidation_blocks,\n\u001b[1;32m    458\u001b[0m                                      eval_n_jobs\u001b[38;5;241m=\u001b[39m\u001b[38;5;28mself\u001b[39m\u001b[38;5;241m.\u001b[39mparams\u001b[38;5;241m.\u001b[39mn_jobs,\n\u001b[1;32m    459\u001b[0m                                      do_unfit\u001b[38;5;241m=\u001b[39m\u001b[38;5;28;01mFalse\u001b[39;00m)\n\u001b[0;32m--> 461\u001b[0m metrics \u001b[38;5;241m=\u001b[39m \u001b[43mobj_eval\u001b[49m\u001b[38;5;241;43m.\u001b[39;49m\u001b[43mevaluate\u001b[49m\u001b[43m(\u001b[49m\u001b[38;5;28;43mself\u001b[39;49m\u001b[38;5;241;43m.\u001b[39;49m\u001b[43mcurrent_pipeline\u001b[49m\u001b[43m)\u001b[49m\u001b[38;5;241m.\u001b[39mvalues\n\u001b[1;32m    462\u001b[0m metrics \u001b[38;5;241m=\u001b[39m {metric_name: \u001b[38;5;28mround\u001b[39m(\u001b[38;5;28mabs\u001b[39m(metric), rounding_order) \u001b[38;5;28;01mfor\u001b[39;00m (metric_name, metric) \u001b[38;5;129;01min\u001b[39;00m\n\u001b[1;32m    463\u001b[0m            \u001b[38;5;28mzip\u001b[39m(metric_names, metrics)}\n\u001b[1;32m    465\u001b[0m \u001b[38;5;28;01mreturn\u001b[39;00m metrics\n",
      "File \u001b[0;32m~/Work/AutoML-LLM/AutoML-LLM-24-Jul/.venv/lib/python3.10/site-packages/fedot/core/optimisers/objective/data_objective_eval.py:83\u001b[0m, in \u001b[0;36mPipelineObjectiveEvaluate.evaluate\u001b[0;34m(self, graph)\u001b[0m\n\u001b[1;32m     81\u001b[0m     folds_metrics\u001b[38;5;241m.\u001b[39mappend(evaluated_fitness\u001b[38;5;241m.\u001b[39mvalues)\n\u001b[1;32m     82\u001b[0m \u001b[38;5;28;01melse\u001b[39;00m:\n\u001b[0;32m---> 83\u001b[0m     \u001b[38;5;28;43mself\u001b[39;49m\u001b[38;5;241;43m.\u001b[39;49m\u001b[43m_log\u001b[49m\u001b[38;5;241;43m.\u001b[39;49m\u001b[43mwarning\u001b[49m\u001b[43m(\u001b[49m\u001b[38;5;124;43mf\u001b[39;49m\u001b[38;5;124;43m'\u001b[39;49m\u001b[38;5;124;43mInvalid fitness after objective evaluation. \u001b[39;49m\u001b[38;5;124;43m'\u001b[39;49m\n\u001b[1;32m     84\u001b[0m \u001b[43m                      \u001b[49m\u001b[38;5;124;43mf\u001b[39;49m\u001b[38;5;124;43m'\u001b[39;49m\u001b[38;5;124;43mSkipping the graph: \u001b[39;49m\u001b[38;5;132;43;01m{\u001b[39;49;00m\u001b[43mgraph_id\u001b[49m\u001b[38;5;132;43;01m}\u001b[39;49;00m\u001b[38;5;124;43m'\u001b[39;49m\u001b[43m,\u001b[49m\u001b[43m \u001b[49m\u001b[43mraise_if_test\u001b[49m\u001b[38;5;241;43m=\u001b[39;49m\u001b[38;5;28;43;01mTrue\u001b[39;49;00m\u001b[43m)\u001b[49m\n\u001b[1;32m     85\u001b[0m \u001b[38;5;28;01mif\u001b[39;00m \u001b[38;5;28mself\u001b[39m\u001b[38;5;241m.\u001b[39m_do_unfit:\n\u001b[1;32m     86\u001b[0m     graph\u001b[38;5;241m.\u001b[39munfit()\n",
      "File \u001b[0;32m~/Work/AutoML-LLM/AutoML-LLM-24-Jul/.venv/lib/python3.10/site-packages/golem/core/log.py:172\u001b[0m, in \u001b[0;36mLoggerAdapter.warning\u001b[0;34m(self, msg, *args, **kwargs)\u001b[0m\n\u001b[1;32m    171\u001b[0m \u001b[38;5;28;01mdef\u001b[39;00m \u001b[38;5;21mwarning\u001b[39m(\u001b[38;5;28mself\u001b[39m, msg, \u001b[38;5;241m*\u001b[39margs, \u001b[38;5;241m*\u001b[39m\u001b[38;5;241m*\u001b[39mkwargs):\n\u001b[0;32m--> 172\u001b[0m     \u001b[43mraise_if_test\u001b[49m\u001b[43m(\u001b[49m\u001b[43mmsg\u001b[49m\u001b[43m,\u001b[49m\u001b[43m \u001b[49m\u001b[38;5;241;43m*\u001b[39;49m\u001b[38;5;241;43m*\u001b[39;49m\u001b[43mkwargs\u001b[49m\u001b[43m)\u001b[49m\n\u001b[1;32m    173\u001b[0m     \u001b[38;5;28msuper\u001b[39m()\u001b[38;5;241m.\u001b[39mwarning(msg, \u001b[38;5;241m*\u001b[39margs, \u001b[38;5;241m*\u001b[39m\u001b[38;5;241m*\u001b[39mkwargs)\n",
      "File \u001b[0;32m~/Work/AutoML-LLM/AutoML-LLM-24-Jul/.venv/lib/python3.10/site-packages/golem/core/log.py:213\u001b[0m, in \u001b[0;36mraise_if_test\u001b[0;34m(msg, **kwargs)\u001b[0m\n\u001b[1;32m    211\u001b[0m \u001b[38;5;28;01mdef\u001b[39;00m \u001b[38;5;21mraise_if_test\u001b[39m(msg, \u001b[38;5;241m*\u001b[39m\u001b[38;5;241m*\u001b[39mkwargs):\n\u001b[1;32m    212\u001b[0m     \u001b[38;5;28;01mif\u001b[39;00m kwargs\u001b[38;5;241m.\u001b[39mget(\u001b[38;5;124m'\u001b[39m\u001b[38;5;124mraise_if_test\u001b[39m\u001b[38;5;124m'\u001b[39m, \u001b[38;5;28;01mFalse\u001b[39;00m) \u001b[38;5;129;01mis\u001b[39;00m \u001b[38;5;28;01mTrue\u001b[39;00m \u001b[38;5;129;01mand\u001b[39;00m is_test_session:\n\u001b[0;32m--> 213\u001b[0m         \u001b[38;5;28;01mraise\u001b[39;00m \u001b[38;5;167;01mException\u001b[39;00m(msg)\n",
      "\u001b[0;31mException\u001b[0m: Invalid fitness after objective evaluation. Skipping the graph: (/n_scaling;)/n_rf_{'n_jobs': 12}"
     ]
    }
   ],
   "source": [
    "prediction = model.predict_proba(features=dataset.test_split.data)\n",
    "auto_metrics = model.get_metrics()\n",
    "print(auto_metrics)"
   ]
  },
  {
   "cell_type": "code",
   "execution_count": 20,
   "metadata": {},
   "outputs": [
    {
     "data": {
      "image/png": "[encoded data removed]",
      "text/plain": [
       "<Figure size 640x480 with 1 Axes>"
      ]
     },
     "metadata": {},
     "output_type": "display_data"
    }
   ],
   "source": [
    "model.plot_prediction()"
   ]
  }
 ],
 "metadata": {
  "kernelspec": {
   "display_name": ".venv",
   "language": "python",
   "name": "python3"
  },
  "language_info": {
   "codemirror_mode": {
    "name": "ipython",
    "version": 3
   },
   "file_extension": ".py",
   "mimetype": "text/x-python",
   "name": "python",
   "nbconvert_exporter": "python",
   "pygments_lexer": "ipython3",
   "version": "3.10.11"
  }
 },
 "nbformat": 4,
 "nbformat_minor": 2
}
