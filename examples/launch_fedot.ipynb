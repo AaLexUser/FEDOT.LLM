{
  "cells": [
    {
      "cell_type": "markdown",
      "id": "5e96ab50-b396-4e48-81cc-160058738c4e",
      "metadata": {
        "id": "5e96ab50-b396-4e48-81cc-160058738c4e"
      },
      "source": [
        "# Setup"
      ]
    },
    {
      "cell_type": "code",
      "execution_count": 1,
      "id": "5ac5964c-acfa-4912-92af-7946c6fa7398",
      "metadata": {
        "id": "5ac5964c-acfa-4912-92af-7946c6fa7398"
      },
      "outputs": [],
      "source": [
        "import os\n",
        "\n",
        "import numpy as np\n",
        "import pandas as pd\n",
        "\n",
        "from pprint import pprint\n",
        "\n",
        "from zip import unzip_archive\n",
        "from fedot_util import run_example\n",
        "from llm_util import run_web_model_multicall\n",
        "from web_api import WebAssistant\n",
        "from data import Dataset\n",
        "import prompts"
      ]
    },
    {
      "cell_type": "markdown",
      "id": "1f2ac346",
      "metadata": {},
      "source": [
        "# Загрузка данных"
      ]
    },
    {
      "cell_type": "code",
      "execution_count": 2,
      "id": "2a1cabc3",
      "metadata": {},
      "outputs": [],
      "source": [
        "dataset_path = [\n",
        "    'titanic', \n",
        "    'credit-g'\n",
        "][0]\n",
        "dataset_path = os.sep.join(['datasets', dataset_path])\n",
        "\n",
        "# zip_filename = f\"{dataset_path}.zip\"\n",
        "# os.makedirs(dataset_path, exist_ok=True)\n",
        "# unzip_archive(zip_filename, dataset_path)"
      ]
    },
    {
      "cell_type": "code",
      "execution_count": 5,
      "id": "O3IlOI4PeVXT",
      "metadata": {
        "id": "O3IlOI4PeVXT"
      },
      "outputs": [
        {
          "name": "stdout",
          "output_type": "stream",
          "text": [
            "name: titanic passengers survival \n",
            " description: passengers survived the Titanic shipwreck \n",
            " train_split_name: train \n",
            " splits: dict_keys(['train', 'test_X', 'test_y'])\n"
          ]
        }
      ],
      "source": [
        "dataset = Dataset.load_from_path(dataset_path)\n",
        "dataset_description = dataset.get_description()\n",
        "dataset_metadata_description = dataset.get_metadata_description()\n",
        "\n",
        "print(dataset_metadata_description)"
      ]
    },
    {
      "cell_type": "markdown",
      "id": "b667d022",
      "metadata": {},
      "source": [
        "# Запрос к web-модели"
      ]
    },
    {
      "cell_type": "code",
      "execution_count": 6,
      "id": "06ec2375",
      "metadata": {},
      "outputs": [
        {
          "ename": "ImportError",
          "evalue": "cannot import name 'task_definition_prompts' from 'prompts' (c:\\Users\\Stas\\Documents\\python\\AutoML-LLM\\prompts.py)",
          "output_type": "error",
          "traceback": [
            "\u001b[1;31m---------------------------------------------------------------------------\u001b[0m",
            "\u001b[1;31mImportError\u001b[0m                               Traceback (most recent call last)",
            "Cell \u001b[1;32mIn[6], line 1\u001b[0m\n\u001b[1;32m----> 1\u001b[0m \u001b[38;5;28;01mfrom\u001b[39;00m \u001b[38;5;21;01mprompts\u001b[39;00m \u001b[38;5;28;01mimport\u001b[39;00m categorical_definition_prompt, target_definition_prompt, task_definition_prompts\n\u001b[0;32m      2\u001b[0m task_prompts \u001b[38;5;241m=\u001b[39m {\n\u001b[0;32m      3\u001b[0m     \u001b[38;5;124m\"\u001b[39m\u001b[38;5;124mcategorical_columns\u001b[39m\u001b[38;5;124m\"\u001b[39m: categorical_definition_prompt,\n\u001b[0;32m      4\u001b[0m     \u001b[38;5;124m\"\u001b[39m\u001b[38;5;124mtarget_column\u001b[39m\u001b[38;5;124m\"\u001b[39m: target_definition_prompt,\n\u001b[0;32m      5\u001b[0m     \u001b[38;5;124m\"\u001b[39m\u001b[38;5;124mtask_type\u001b[39m\u001b[38;5;124m\"\u001b[39m: task_definition_prompts,\n\u001b[0;32m      6\u001b[0m }\n\u001b[0;32m      8\u001b[0m url \u001b[38;5;241m=\u001b[39m \u001b[38;5;124m\"\u001b[39m\u001b[38;5;124mhttp://10.32.15.21:6672/generate\u001b[39m\u001b[38;5;124m\"\u001b[39m\n",
            "\u001b[1;31mImportError\u001b[0m: cannot import name 'task_definition_prompts' from 'prompts' (c:\\Users\\Stas\\Documents\\python\\AutoML-LLM\\prompts.py)"
          ]
        }
      ],
      "source": [
        "task_prompts = {\n",
        "    \"categorical_columns\": {\n",
        "        \"system\": dataset_description,\n",
        "        \"task\": prompts.categorical_definition_prompt,\n",
        "        \"context\": prompts.categorical_definition_context,\n",
        "    },\n",
        "    \"target_column\": {\n",
        "        \"system\": dataset_description,\n",
        "        \"task\": prompts.target_definition_prompt,\n",
        "        \"context\": None,\n",
        "    },\n",
        "    \"task_type\": {\n",
        "        \"system\": dataset_description,\n",
        "        \"task\": prompts.task_definition_prompt,\n",
        "        \"context\": None,\n",
        "    }\n",
        "}\n",
        "\n",
        "#Выбор модели\n",
        "\n",
        "model_type = [\"8b\", \"70b\"][0]\n",
        "url = \"http://10.32.2.2:8672/v1/chat/completions\"\n",
        "\n",
        "if model_type == \"70b\":\n",
        "    url = \"http://10.32.15.21:6672/generate\"\n",
        "\n",
        "model = WebAssistant(url)\n",
        "responses = run_web_model_multicall(\n",
        "    model, task_prompts\n",
        ")\n",
        "pprint(responses)"
      ]
    },
    {
      "cell_type": "markdown",
      "id": "8382401d",
      "metadata": {},
      "source": [
        "# Запуск фреймворка"
      ]
    },
    {
      "cell_type": "code",
      "execution_count": 4,
      "id": "aaJnOwCvr_wR",
      "metadata": {
        "colab": {
          "base_uri": "https://localhost:8080/",
          "height": 211
        },
        "id": "aaJnOwCvr_wR",
        "outputId": "9eec85e6-9062-4ef6-b018-bd8d7a8eb587"
      },
      "outputs": [
        {
          "name": "stderr",
          "output_type": "stream",
          "text": [
            "Generations:   0%|          | 0/10000 [02:16<?, ?gen/s]\n"
          ]
        },
        {
          "name": "stdout",
          "output_type": "stream",
          "text": [
            "{'roc_auc': 0.941, 'accuracy': 0.828}\n"
          ]
        }
      ],
      "source": [
        "\n",
        "if dataset_path == 'titanic':\n",
        "    test_df = dataset_metadata[\"splits\"][\"test_X\"].merge(dataset_metadata[\"splits\"][\"test_y\"],\n",
        "                                                         on='PassengerId', how='inner')\n",
        "else:\n",
        "    test_df = dataset_metadata[\"splits\"][\"test\"]\n",
        "\n",
        "train_df = dataset_metadata[\"splits\"][\"train\"]\n",
        "\n",
        "prediction = run_example(train_df = train_df, test_df = test_df,\n",
        "                          dataset_metadata = dataset_metadata)"
      ]
    },
    {
      "cell_type": "code",
      "execution_count": 5,
      "id": "2f61d093",
      "metadata": {},
      "outputs": [
        {
          "data": {
            "text/plain": [
              "array([[0],\n",
              "       [0],\n",
              "       [0],\n",
              "       [0],\n",
              "       [1]], dtype=int64)"
            ]
          },
          "execution_count": 5,
          "metadata": {},
          "output_type": "execute_result"
        }
      ],
      "source": [
        "prediction[:5]"
      ]
    },
    {
      "cell_type": "code",
      "execution_count": null,
      "id": "2e45d4f3",
      "metadata": {},
      "outputs": [],
      "source": [
        "result_df = pd.DataFrame(prediction, columns=[dataset_metadata[\"target_column\"]])\n",
        "\n",
        "result_df.to_csv(f\"{dataset_path}/predictions.csv\")"
      ]
    }
  ],
  "metadata": {
    "colab": {
      "collapsed_sections": [
        "5e96ab50-b396-4e48-81cc-160058738c4e"
      ],
      "provenance": []
    },
    "kernelspec": {
      "display_name": "Python 3",
      "name": "python3"
    },
    "language_info": {
      "codemirror_mode": {
        "name": "ipython",
        "version": 3
      },
      "file_extension": ".py",
      "mimetype": "text/x-python",
      "name": "python",
      "nbconvert_exporter": "python",
      "pygments_lexer": "ipython3",
      "version": "3.10.3"
    }
  },
  "nbformat": 4,
  "nbformat_minor": 5
}
