{
 "cells": [
  {
   "cell_type": "markdown",
   "id": "5e96ab50-b396-4e48-81cc-160058738c4e",
   "metadata": {},
   "source": [
    "# Setup"
   ]
  },
  {
   "cell_type": "code",
   "execution_count": 1,
   "id": "5ac5964c-acfa-4912-92af-7946c6fa7398",
   "metadata": {},
   "outputs": [
    {
     "data": {
      "text/plain": [
       "True"
      ]
     },
     "execution_count": 1,
     "metadata": {},
     "output_type": "execute_result"
    }
   ],
   "source": [
    "import json\n",
    "\n",
    "import pandas as pd\n",
    "\n",
    "from llm_util import run_model_multicall, process_model_responses, save_model_responses\n",
    "from dataset_util import zip_archive, load_dataset_data, print_dataset_data\n",
    "\n",
    "from dotenv import load_dotenv\n",
    "load_dotenv()"
   ]
  },
  {
   "cell_type": "markdown",
   "id": "0602b420-fb55-4915-b70d-8e7fd809abcf",
   "metadata": {},
   "source": [
    "# Метаданные датасетов"
   ]
  },
  {
   "cell_type": "markdown",
   "id": "ab54a5cd-220e-45ac-9275-67fb2743961d",
   "metadata": {},
   "source": [
    "Titanic"
   ]
  },
  {
   "cell_type": "code",
   "execution_count": 2,
   "id": "31861f89-efb7-4a7c-a98a-1e5c1c761d6f",
   "metadata": {},
   "outputs": [],
   "source": [
    "dataset_metadata = {\n",
    "    \"name\": \"titanic passengers survival\",\n",
    "    \"description\": \"passengers survived the Titanic shipwreck\",\n",
    "    \"goal\": \"predict which passengers survived the Titanic shipwreck\",\n",
    "    \"split_names\": [\"train\", \"test_X\", \"test_y\"],\n",
    "    \"split_paths\": {\n",
    "        \"train\": 'train.csv',\n",
    "        \"test_X\": 'test.csv',\n",
    "        \"test_y\": 'gender_submission.csv'\n",
    "    },\n",
    "    \"split_descriptions\":{\n",
    "        \"train\": 'train dataset',\n",
    "        \"test_X\": 'test dataset without target',\n",
    "        \"test_y\": 'test dataset target'\n",
    "    },\n",
    "    \"train_split_name\": \"train\"\n",
    "} \n",
    "\n",
    "with open('titanic/metadata.json', 'w') as json_file:\n",
    "    json.dump(dataset_metadata, json_file)"
   ]
  },
  {
   "cell_type": "markdown",
   "id": "ebb2e4a3-6817-43ff-83eb-6ebfc1cbabb0",
   "metadata": {},
   "source": [
    "Credit-G"
   ]
  },
  {
   "cell_type": "code",
   "execution_count": null,
   "id": "70078bd5-72cb-4711-9a8a-afb201d11e4d",
   "metadata": {},
   "outputs": [],
   "source": [
    "dataset_metadata = {\n",
    "    \"name\": \"German Credit dataset\",\n",
    "    \"description\": \"classifies people described by a set of attributes as good or bad credit risks\",\n",
    "    \"goal\": \"predict good or bad credit risks of people by attributes\",\n",
    "    \"split_names\": [\"train\", \"test\"],\n",
    "    \"split_paths\": {\n",
    "        \"train\": 'train.csv',\n",
    "        \"test\": 'test.csv',\n",
    "    },\n",
    "    \"split_descriptions\":{\n",
    "        \"train\": 'train dataset',\n",
    "        \"test\": 'test dataset',\n",
    "    },\n",
    "    \"train_split_name\": \"train\"\n",
    "} \n",
    "\n",
    "with open('credit-g/metadata.json', 'w') as json_file:\n",
    "    json.dump(dataset_metadata, json_file)"
   ]
  },
  {
   "cell_type": "markdown",
   "id": "9f68e62a-66a7-435a-981f-46cc185ca1fa",
   "metadata": {},
   "source": [
    "# Загружаем данные и вызываем модель"
   ]
  },
  {
   "cell_type": "code",
   "execution_count": 3,
   "id": "c7c01178-2306-48e1-b59b-735fd73ede60",
   "metadata": {},
   "outputs": [
    {
     "name": "stdout",
     "output_type": "stream",
     "text": [
      "name : titanic passengers survival\n",
      "description : passengers survived the Titanic shipwreck\n",
      "goal : predict which passengers survived the Titanic shipwreck\n",
      "split_names : ['train', 'test_X', 'test_y']\n",
      "split_paths : {'train': 'train.csv', 'test_X': 'test.csv', 'test_y': 'gender_submission.csv'}\n",
      "split_descriptions : {'train': 'train dataset', 'test_X': 'test dataset without target', 'test_y': 'test dataset target'}\n",
      "train_split_name : train\n",
      "splits : dict_keys(['train', 'test_X', 'test_y'])\n",
      "categorical_columns : ['Pclass', 'Sex', 'Embarked']\n",
      "target_column : survived\n",
      "task_type : classification\n"
     ]
    }
   ],
   "source": [
    "dataset_path = ['titanic', 'credit-g'][0]\n",
    "dataset_metadata = load_dataset_data(dataset_path)\n",
    "print_dataset_data(dataset_metadata)"
   ]
  },
  {
   "cell_type": "code",
   "execution_count": 4,
   "id": "076a8331-4972-4279-9057-aab088a2c274",
   "metadata": {},
   "outputs": [
    {
     "name": "stdout",
     "output_type": "stream",
     "text": [
      "{'categorical_columns': ['Pclass'], 'target_column': 'Survived', 'task_type': 'classification'}\n"
     ]
    }
   ],
   "source": [
    "responses = run_model_multicall(dataset_metadata = dataset_metadata)\n",
    "\n",
    "responses = process_model_responses(responses)\n",
    "print(responses)"
   ]
  },
  {
   "cell_type": "code",
   "execution_count": 5,
   "id": "eb3629f1",
   "metadata": {},
   "outputs": [],
   "source": [
    "save_model_responses(responses, dataset_path)"
   ]
  },
  {
   "cell_type": "code",
   "execution_count": 6,
   "id": "22a28cce-fc90-4614-8670-28ddf0314c95",
   "metadata": {},
   "outputs": [
    {
     "name": "stdout",
     "output_type": "stream",
     "text": [
      "titanic.zip created successfully.\n"
     ]
    }
   ],
   "source": [
    "zip_archive(dataset_path, f\"{dataset_path}.zip\")"
   ]
  }
 ],
 "metadata": {
  "kernelspec": {
   "display_name": "Python 3 (ipykernel)",
   "language": "python",
   "name": "python3"
  },
  "language_info": {
   "codemirror_mode": {
    "name": "ipython",
    "version": 3
   },
   "file_extension": ".py",
   "mimetype": "text/x-python",
   "name": "python",
   "nbconvert_exporter": "python",
   "pygments_lexer": "ipython3",
   "version": "3.10.11"
  }
 },
 "nbformat": 4,
 "nbformat_minor": 5
}
